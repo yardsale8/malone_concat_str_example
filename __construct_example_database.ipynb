{
 "cells": [
  {
   "cell_type": "markdown",
   "metadata": {},
   "source": [
    "## Preprocessing\n",
    "\n",
    "Include any code needed to, for example, create CSV table, below."
   ]
  },
  {
   "cell_type": "markdown",
   "metadata": {},
   "source": [
    "## Defining paths \n",
    "\n",
    "Next, define the following paths/names,\n",
    "\n",
    "1. `data_location`, which can be a path or `glob` search query,\n",
    "2. `name_re`, which is a regular expression for extracting the table name from the table path, and \n",
    "3. `db_path`, which is the path to the destination db."
   ]
  },
  {
   "cell_type": "code",
   "execution_count": 1,
   "metadata": {},
   "outputs": [
    {
     "name": "stdout",
     "output_type": "stream",
     "text": [
      "total 144\r\n",
      "drwxr-xr-x@ 12 toddiverson  staff    384 Mar 22 07:07 \u001b[34m.\u001b[m\u001b[m\r\n",
      "drwx------@ 22 toddiverson  staff    704 Mar 21 09:53 \u001b[34m..\u001b[m\u001b[m\r\n",
      "drwxr-xr-x  13 toddiverson  staff    416 Mar 22 07:24 \u001b[34m.git\u001b[m\u001b[m\r\n",
      "drwxr-xr-x   4 toddiverson  staff    128 Mar 22 07:10 \u001b[34m.ipynb_checkpoints\u001b[m\u001b[m\r\n",
      "-rw-r--r--   1 toddiverson  staff     46 Mar 22 07:25 README.md\r\n",
      "-rw-r--r--   1 toddiverson  staff    292 Mar 22 07:22 Untitled.ipynb\r\n",
      "-rw-r--r--@  1 toddiverson  staff  32988 Mar 21 09:47 __construct_example_database.ipynb\r\n",
      "-rw-r--r--   1 toddiverson  staff  11935 Mar 22 07:30 concat_str_with_python_and_polars.ipynb\r\n",
      "-rw-------@  1 toddiverson  staff     50 Mar 22 07:09 emails.csv\r\n",
      "-rw-------@  1 toddiverson  staff    750 Mar 22 07:09 emails.jmp\r\n",
      "-rw-------@  1 toddiverson  staff    105 Mar 22 07:08 form_output.csv\r\n",
      "-rw-------@  1 toddiverson  staff    894 Mar 22 07:08 form_output.jmp\r\n"
     ]
    }
   ],
   "source": [
    "!ls -al"
   ]
  },
  {
   "cell_type": "code",
   "execution_count": 2,
   "metadata": {},
   "outputs": [],
   "source": [
    "data_location = './*.csv'\n",
    "name_re = r'./(.*).csv'\n",
    "db_path = 'sqlite:///example.db'"
   ]
  },
  {
   "cell_type": "markdown",
   "metadata": {},
   "source": [
    "## Create the db\n",
    "\n",
    "Run the following cell to create the database."
   ]
  },
  {
   "cell_type": "code",
   "execution_count": 3,
   "metadata": {},
   "outputs": [
    {
     "name": "stdout",
     "output_type": "stream",
     "text": [
      "Requirement already satisfied: sqlalchemy-utils in /Users/toddiverson/.pyenv/versions/anaconda3-2022.05/lib/python3.9/site-packages (0.39.0)\n",
      "Requirement already satisfied: SQLAlchemy>=1.3 in /Users/toddiverson/.pyenv/versions/anaconda3-2022.05/lib/python3.9/site-packages (from sqlalchemy-utils) (1.4.32)\n"
     ]
    }
   ],
   "source": [
    "!pip install sqlalchemy-utils"
   ]
  },
  {
   "cell_type": "code",
   "execution_count": 4,
   "metadata": {},
   "outputs": [
    {
     "data": {
      "text/plain": [
       "['./emails.csv', './form_output.csv']"
      ]
     },
     "execution_count": 4,
     "metadata": {},
     "output_type": "execute_result"
    }
   ],
   "source": [
    "import pandas as pd\n",
    "from glob import glob\n",
    "from dfply import *\n",
    "import re\n",
    "from sqlalchemy import create_engine\n",
    "from sqlalchemy_utils import database_exists, create_database\n",
    "from sqlalchemy import Integer, Float, String, DateTime\n",
    "\n",
    "DTYPES_TO_SQLALCHEMY_TYPES = {'O':String,\n",
    "                              'i':Integer,\n",
    "                              'f':Float,\n",
    "                              'M':DateTime}\n",
    "\n",
    "\n",
    "\n",
    "def get_sql_types(df):\n",
    "    sql_type = lambda dtype: DTYPES_TO_SQLALCHEMY_TYPES[dtype.kind] \n",
    "    cols_and_dtypes = lambda df: zip(df.columns, df.dtypes)\n",
    "    return {col:sql_type(dtype) \n",
    "            for col, dtype in cols_and_dtypes(df)}\n",
    "\n",
    "paths = glob(data_location)\n",
    "paths"
   ]
  },
  {
   "cell_type": "code",
   "execution_count": 5,
   "metadata": {},
   "outputs": [
    {
     "data": {
      "text/plain": [
       "['emails', 'form_output']"
      ]
     },
     "execution_count": 5,
     "metadata": {},
     "output_type": "execute_result"
    }
   ],
   "source": [
    "name_re = re.compile(name_re)\n",
    "names = [name_re.match(path).group(1) for path in paths]\n",
    "names"
   ]
  },
  {
   "cell_type": "code",
   "execution_count": 6,
   "metadata": {},
   "outputs": [],
   "source": [
    "tables = {name: pd.read_csv(path)  >> mutate(RowID = X.index) for name, path in zip(names, paths)}\n",
    "types = {name:get_sql_types(t) for name, t in tables.items()}"
   ]
  },
  {
   "cell_type": "code",
   "execution_count": 7,
   "metadata": {},
   "outputs": [
    {
     "data": {
      "text/plain": [
       "{'emails':   Team            Email  RowID\n",
       " 0  N01  xyz@stjohns.edu      0\n",
       " 1  U01   abc@winona.edu      1,\n",
       " 'form_output':   Team  Score     Comments  RowID\n",
       " 0  N01     78       Blah 1      0\n",
       " 1  N01     73       Blah 2      1\n",
       " 2  U01     54  Blah Blah 1      2\n",
       " 3  U01     62  Blah Blah 2      3\n",
       " 4  U01     68  Blah Blah 3      4}"
      ]
     },
     "execution_count": 7,
     "metadata": {},
     "output_type": "execute_result"
    }
   ],
   "source": [
    "tables"
   ]
  },
  {
   "cell_type": "code",
   "execution_count": 8,
   "metadata": {},
   "outputs": [
    {
     "data": {
      "text/plain": [
       "{'emails': {'Team': sqlalchemy.sql.sqltypes.String,\n",
       "  'Email': sqlalchemy.sql.sqltypes.String,\n",
       "  'RowID': sqlalchemy.sql.sqltypes.Integer},\n",
       " 'form_output': {'Team': sqlalchemy.sql.sqltypes.String,\n",
       "  'Score': sqlalchemy.sql.sqltypes.Integer,\n",
       "  'Comments': sqlalchemy.sql.sqltypes.String,\n",
       "  'RowID': sqlalchemy.sql.sqltypes.Integer}}"
      ]
     },
     "execution_count": 8,
     "metadata": {},
     "output_type": "execute_result"
    }
   ],
   "source": [
    "types"
   ]
  },
  {
   "cell_type": "code",
   "execution_count": 10,
   "metadata": {},
   "outputs": [
    {
     "name": "stdout",
     "output_type": "stream",
     "text": [
      "\n",
      "CREATE TABLE emails (\n",
      "\t\"Team\" VARCHAR, \n",
      "\t\"Email\" VARCHAR, \n",
      "\t\"RowID\" INTEGER NOT NULL, \n",
      "\tCONSTRAINT emails_pk PRIMARY KEY (\"RowID\")\n",
      ")\n",
      "\n",
      "\n",
      "\n",
      "CREATE TABLE form_output (\n",
      "\t\"Team\" VARCHAR, \n",
      "\t\"Score\" INTEGER, \n",
      "\t\"Comments\" VARCHAR, \n",
      "\t\"RowID\" INTEGER NOT NULL, \n",
      "\tCONSTRAINT form_output_pk PRIMARY KEY (\"RowID\")\n",
      ")\n",
      "\n",
      "\n",
      "Loading table emails\n",
      "Loading table form_output\n"
     ]
    }
   ],
   "source": [
    "engine = create_engine(db_path, echo=False)\n",
    "# See https://stackoverflow.com/questions/6506578/how-to-create-a-new-database-using-sqlalchemy\n",
    "if not database_exists(engine.url):\n",
    "    create_database(engine.url)\n",
    "\n",
    "for name in names:\n",
    "    schema = pd.io.sql.get_schema(tables[name], # dataframe\n",
    "                                  name, # name in SQL db\n",
    "                                  keys='RowID', # primary key\n",
    "                                  con=engine, # connection\n",
    "                                  dtype=types[name] # SQL types\n",
    "    )\n",
    "    print(schema)\n",
    "    engine.execute(schema)\n",
    "\n",
    "for name in names:\n",
    "    print(\"Loading table {0}\".format(name))\n",
    "    tables[name].to_sql(name, \n",
    "                        con=engine, \n",
    "                        dtype=types[name], \n",
    "                        index=False,\n",
    "                        if_exists='append')"
   ]
  },
  {
   "cell_type": "code",
   "execution_count": null,
   "metadata": {},
   "outputs": [],
   "source": []
  }
 ],
 "metadata": {
  "kernelspec": {
   "display_name": "Python 3 (ipykernel)",
   "language": "python",
   "name": "python3"
  },
  "language_info": {
   "codemirror_mode": {
    "name": "ipython",
    "version": 3
   },
   "file_extension": ".py",
   "mimetype": "text/x-python",
   "name": "python",
   "nbconvert_exporter": "python",
   "pygments_lexer": "ipython3",
   "version": "3.9.12"
  }
 },
 "nbformat": 4,
 "nbformat_minor": 2
}
