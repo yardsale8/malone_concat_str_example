{
  "nbformat": 4,
  "nbformat_minor": 0,
  "metadata": {
    "colab": {
      "provenance": [],
      "authorship_tag": "ABX9TyOqVObQNsBg+ME5XzZRTbuz",
      "include_colab_link": true
    },
    "kernelspec": {
      "name": "ir",
      "display_name": "R"
    },
    "language_info": {
      "name": "R"
    }
  },
  "cells": [
    {
      "cell_type": "markdown",
      "metadata": {
        "id": "view-in-github",
        "colab_type": "text"
      },
      "source": [
        "<a href=\"https://colab.research.google.com/github/yardsale8/malone_concat_str_example/blob/main/concat_str_with_R_and_dplyr.ipynb\" target=\"_parent\"><img src=\"https://colab.research.google.com/assets/colab-badge.svg\" alt=\"Open In Colab\"/></a>"
      ]
    },
    {
      "cell_type": "code",
      "execution_count": 1,
      "metadata": {
        "colab": {
          "base_uri": "https://localhost:8080/"
        },
        "id": "HUcKdmw7fLx1",
        "outputId": "228f6ad7-bad6-403a-ef71-65876e7325d6"
      },
      "outputs": [
        {
          "output_type": "stream",
          "name": "stderr",
          "text": [
            "\n",
            "Attaching package: ‘dplyr’\n",
            "\n",
            "\n",
            "The following objects are masked from ‘package:stats’:\n",
            "\n",
            "    filter, lag\n",
            "\n",
            "\n",
            "The following objects are masked from ‘package:base’:\n",
            "\n",
            "    intersect, setdiff, setequal, union\n",
            "\n",
            "\n"
          ]
        }
      ],
      "source": [
        "library(dplyr)"
      ]
    },
    {
      "cell_type": "code",
      "source": [
        "comments <- read.csv('https://github.com/yardsale8/malone_concat_str_example/raw/main/form_output.csv')\n",
        "comments"
      ],
      "metadata": {
        "colab": {
          "base_uri": "https://localhost:8080/",
          "height": 248
        },
        "id": "8qkolRNcfNyI",
        "outputId": "80f97a35-8a42-400d-d735-5297dc514156"
      },
      "execution_count": 6,
      "outputs": [
        {
          "output_type": "display_data",
          "data": {
            "text/html": [
              "<table class=\"dataframe\">\n",
              "<caption>A data.frame: 5 × 3</caption>\n",
              "<thead>\n",
              "\t<tr><th scope=col>Team</th><th scope=col>Score</th><th scope=col>Comments</th></tr>\n",
              "\t<tr><th scope=col>&lt;chr&gt;</th><th scope=col>&lt;int&gt;</th><th scope=col>&lt;chr&gt;</th></tr>\n",
              "</thead>\n",
              "<tbody>\n",
              "\t<tr><td>N01</td><td>78</td><td>Blah 1     </td></tr>\n",
              "\t<tr><td>N01</td><td>73</td><td>Blah 2     </td></tr>\n",
              "\t<tr><td>U01</td><td>54</td><td>Blah Blah 1</td></tr>\n",
              "\t<tr><td>U01</td><td>62</td><td>Blah Blah 2</td></tr>\n",
              "\t<tr><td>U01</td><td>68</td><td>Blah Blah 3</td></tr>\n",
              "</tbody>\n",
              "</table>\n"
            ],
            "text/markdown": "\nA data.frame: 5 × 3\n\n| Team &lt;chr&gt; | Score &lt;int&gt; | Comments &lt;chr&gt; |\n|---|---|---|\n| N01 | 78 | Blah 1      |\n| N01 | 73 | Blah 2      |\n| U01 | 54 | Blah Blah 1 |\n| U01 | 62 | Blah Blah 2 |\n| U01 | 68 | Blah Blah 3 |\n\n",
            "text/latex": "A data.frame: 5 × 3\n\\begin{tabular}{lll}\n Team & Score & Comments\\\\\n <chr> & <int> & <chr>\\\\\n\\hline\n\t N01 & 78 & Blah 1     \\\\\n\t N01 & 73 & Blah 2     \\\\\n\t U01 & 54 & Blah Blah 1\\\\\n\t U01 & 62 & Blah Blah 2\\\\\n\t U01 & 68 & Blah Blah 3\\\\\n\\end{tabular}\n",
            "text/plain": [
              "  Team Score Comments   \n",
              "1 N01  78    Blah 1     \n",
              "2 N01  73    Blah 2     \n",
              "3 U01  54    Blah Blah 1\n",
              "4 U01  62    Blah Blah 2\n",
              "5 U01  68    Blah Blah 3"
            ]
          },
          "metadata": {}
        }
      ]
    },
    {
      "cell_type": "code",
      "source": [
        "emails <- read.csv('https://github.com/yardsale8/malone_concat_str_example/raw/main/emails.csv')\n",
        "emails"
      ],
      "metadata": {
        "colab": {
          "base_uri": "https://localhost:8080/",
          "height": 156
        },
        "id": "aEwaqY8ofU0V",
        "outputId": "074830b3-db0c-4e50-db8d-93b7c96be55d"
      },
      "execution_count": 7,
      "outputs": [
        {
          "output_type": "display_data",
          "data": {
            "text/html": [
              "<table class=\"dataframe\">\n",
              "<caption>A data.frame: 2 × 2</caption>\n",
              "<thead>\n",
              "\t<tr><th scope=col>Team</th><th scope=col>Email</th></tr>\n",
              "\t<tr><th scope=col>&lt;chr&gt;</th><th scope=col>&lt;chr&gt;</th></tr>\n",
              "</thead>\n",
              "<tbody>\n",
              "\t<tr><td>N01</td><td>xyz@stjohns.edu</td></tr>\n",
              "\t<tr><td>U01</td><td>abc@winona.edu </td></tr>\n",
              "</tbody>\n",
              "</table>\n"
            ],
            "text/markdown": "\nA data.frame: 2 × 2\n\n| Team &lt;chr&gt; | Email &lt;chr&gt; |\n|---|---|\n| N01 | xyz@stjohns.edu |\n| U01 | abc@winona.edu  |\n\n",
            "text/latex": "A data.frame: 2 × 2\n\\begin{tabular}{ll}\n Team & Email\\\\\n <chr> & <chr>\\\\\n\\hline\n\t N01 & xyz@stjohns.edu\\\\\n\t U01 & abc@winona.edu \\\\\n\\end{tabular}\n",
            "text/plain": [
              "  Team Email          \n",
              "1 N01  xyz@stjohns.edu\n",
              "2 U01  abc@winona.edu "
            ]
          },
          "metadata": {}
        }
      ]
    },
    {
      "cell_type": "code",
      "source": [
        "( comments\n",
        "  %>% group_by(Team)\n",
        "  %>% summarise(`Avg Score` = mean(Score),\n",
        "                Comments = paste0(Comments, collapse = \"; \"))\n",
        "  %>% left_join(emails, by = 'Team')\n",
        "\n",
        ")"
      ],
      "metadata": {
        "colab": {
          "base_uri": "https://localhost:8080/",
          "height": 156
        },
        "id": "hlifr6oHf1L6",
        "outputId": "a5cccbc1-c850-4367-e248-d3496e4f32ad"
      },
      "execution_count": 11,
      "outputs": [
        {
          "output_type": "display_data",
          "data": {
            "text/html": [
              "<table class=\"dataframe\">\n",
              "<caption>A tibble: 2 × 4</caption>\n",
              "<thead>\n",
              "\t<tr><th scope=col>Team</th><th scope=col>Avg Score</th><th scope=col>Comments</th><th scope=col>Email</th></tr>\n",
              "\t<tr><th scope=col>&lt;chr&gt;</th><th scope=col>&lt;dbl&gt;</th><th scope=col>&lt;chr&gt;</th><th scope=col>&lt;chr&gt;</th></tr>\n",
              "</thead>\n",
              "<tbody>\n",
              "\t<tr><td>N01</td><td>75.50000</td><td>Blah 1; Blah 2                       </td><td>xyz@stjohns.edu</td></tr>\n",
              "\t<tr><td>U01</td><td>61.33333</td><td>Blah Blah 1; Blah Blah 2; Blah Blah 3</td><td>abc@winona.edu </td></tr>\n",
              "</tbody>\n",
              "</table>\n"
            ],
            "text/markdown": "\nA tibble: 2 × 4\n\n| Team &lt;chr&gt; | Avg Score &lt;dbl&gt; | Comments &lt;chr&gt; | Email &lt;chr&gt; |\n|---|---|---|---|\n| N01 | 75.50000 | Blah 1; Blah 2                        | xyz@stjohns.edu |\n| U01 | 61.33333 | Blah Blah 1; Blah Blah 2; Blah Blah 3 | abc@winona.edu  |\n\n",
            "text/latex": "A tibble: 2 × 4\n\\begin{tabular}{llll}\n Team & Avg Score & Comments & Email\\\\\n <chr> & <dbl> & <chr> & <chr>\\\\\n\\hline\n\t N01 & 75.50000 & Blah 1; Blah 2                        & xyz@stjohns.edu\\\\\n\t U01 & 61.33333 & Blah Blah 1; Blah Blah 2; Blah Blah 3 & abc@winona.edu \\\\\n\\end{tabular}\n",
            "text/plain": [
              "  Team Avg Score Comments                              Email          \n",
              "1 N01  75.50000  Blah 1; Blah 2                        xyz@stjohns.edu\n",
              "2 U01  61.33333  Blah Blah 1; Blah Blah 2; Blah Blah 3 abc@winona.edu "
            ]
          },
          "metadata": {}
        }
      ]
    }
  ]
}