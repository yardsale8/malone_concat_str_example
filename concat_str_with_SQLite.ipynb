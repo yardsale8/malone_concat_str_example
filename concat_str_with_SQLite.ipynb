{
 "cells": [
  {
   "cell_type": "markdown",
   "id": "044fcfc8",
   "metadata": {},
   "source": [
    "#### Colab Setup"
   ]
  },
  {
   "cell_type": "code",
   "execution_count": null,
   "id": "f7159271",
   "metadata": {},
   "outputs": [],
   "source": [
    "!pip install pyensae"
   ]
  },
  {
   "cell_type": "code",
   "execution_count": null,
   "id": "00035a54",
   "metadata": {},
   "outputs": [],
   "source": [
    "!pip install jyquickhelper"
   ]
  },
  {
   "cell_type": "code",
   "execution_count": null,
   "id": "2dfdacff",
   "metadata": {},
   "outputs": [],
   "source": [
    "!wget https://github.com/yardsale8/malone_concat_str_example/raw/main/example.db"
   ]
  },
  {
   "cell_type": "markdown",
   "id": "e8f97cc1",
   "metadata": {},
   "source": [
    "#### Example"
   ]
  },
  {
   "cell_type": "code",
   "execution_count": 1,
   "id": "1eefd500",
   "metadata": {},
   "outputs": [],
   "source": [
    "%load_ext pyensae"
   ]
  },
  {
   "cell_type": "code",
   "execution_count": 3,
   "id": "045ef041",
   "metadata": {},
   "outputs": [
    {
     "data": {
      "text/plain": [
       "<pyensae.sql.sql_interface_database.InterfaceSQLDatabase at 0x11fe31640>"
      ]
     },
     "execution_count": 3,
     "metadata": {},
     "output_type": "execute_result"
    }
   ],
   "source": [
    "%SQL_connect ./example.db"
   ]
  },
  {
   "cell_type": "code",
   "execution_count": 4,
   "id": "5e4073e9",
   "metadata": {},
   "outputs": [
    {
     "data": {
      "text/plain": [
       "['emails', 'form_output']"
      ]
     },
     "execution_count": 4,
     "metadata": {},
     "output_type": "execute_result"
    }
   ],
   "source": [
    "%SQL_tables"
   ]
  },
  {
   "cell_type": "code",
   "execution_count": 7,
   "id": "38c9888a",
   "metadata": {},
   "outputs": [
    {
     "data": {
      "text/html": [
       "<div>\n",
       "<style scoped>\n",
       "    .dataframe tbody tr th:only-of-type {\n",
       "        vertical-align: middle;\n",
       "    }\n",
       "\n",
       "    .dataframe tbody tr th {\n",
       "        vertical-align: top;\n",
       "    }\n",
       "\n",
       "    .dataframe thead th {\n",
       "        text-align: right;\n",
       "    }\n",
       "</style>\n",
       "<table border=\"1\" class=\"dataframe\">\n",
       "  <thead>\n",
       "    <tr style=\"text-align: right;\">\n",
       "      <th></th>\n",
       "      <th>Team</th>\n",
       "      <th>Avg Score</th>\n",
       "      <th>Comments</th>\n",
       "      <th>Email</th>\n",
       "    </tr>\n",
       "  </thead>\n",
       "  <tbody>\n",
       "    <tr>\n",
       "      <th>0</th>\n",
       "      <td>N01</td>\n",
       "      <td>75.500000</td>\n",
       "      <td>Blah 1; Blah 2</td>\n",
       "      <td>xyz@stjohns.edu</td>\n",
       "    </tr>\n",
       "    <tr>\n",
       "      <th>1</th>\n",
       "      <td>U01</td>\n",
       "      <td>61.333333</td>\n",
       "      <td>Blah Blah 1; Blah Blah 2; Blah Blah 3</td>\n",
       "      <td>abc@winona.edu</td>\n",
       "    </tr>\n",
       "  </tbody>\n",
       "</table>\n",
       "</div>"
      ],
      "text/plain": [
       "  Team  Avg Score                               Comments            Email\n",
       "0  N01  75.500000                         Blah 1; Blah 2  xyz@stjohns.edu\n",
       "1  U01  61.333333  Blah Blah 1; Blah Blah 2; Blah Blah 3   abc@winona.edu"
      ]
     },
     "execution_count": 7,
     "metadata": {},
     "output_type": "execute_result"
    }
   ],
   "source": [
    "%%SQL\n",
    "\n",
    "SELECT\n",
    "    Team,\n",
    "    AVG(c.Score) AS 'Avg Score',\n",
    "    GROUP_CONCAT(c.Comments,'; ') AS Comments,\n",
    "    e.Email\n",
    "FROM\n",
    "    form_output c\n",
    "LEFT JOIN emails e USING (Team)\n",
    "GROUP BY\n",
    "    Team"
   ]
  }
 ],
 "metadata": {
  "kernelspec": {
   "display_name": "Python 3 (ipykernel)",
   "language": "python",
   "name": "python3"
  },
  "language_info": {
   "codemirror_mode": {
    "name": "ipython",
    "version": 3
   },
   "file_extension": ".py",
   "mimetype": "text/x-python",
   "name": "python",
   "nbconvert_exporter": "python",
   "pygments_lexer": "ipython3",
   "version": "3.9.12"
  }
 },
 "nbformat": 4,
 "nbformat_minor": 5
}
