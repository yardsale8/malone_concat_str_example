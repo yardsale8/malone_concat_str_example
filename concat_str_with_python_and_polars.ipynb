{
 "cells": [
  {
   "cell_type": "markdown",
   "id": "4f3e7517",
   "metadata": {
    "colab_type": "text",
    "id": "view-in-github"
   },
   "source": [
    "<a href=\"https://colab.research.google.com/github/yardsale8/malone_concat_str_example/blob/main/concat_str_with_python_and_polars.ipynb\" target=\"_parent\"><img src=\"https://colab.research.google.com/assets/colab-badge.svg\" alt=\"Open In Colab\"/></a>"
   ]
  },
  {
   "cell_type": "code",
   "execution_count": 1,
   "id": "ad943b08",
   "metadata": {
    "colab": {
     "base_uri": "https://localhost:8080/"
    },
    "id": "ad943b08",
    "outputId": "329ec189-b275-429d-a4be-a8363d873bc3"
   },
   "outputs": [
    {
     "name": "stdout",
     "output_type": "stream",
     "text": [
      "Looking in indexes: https://pypi.org/simple, https://us-python.pkg.dev/colab-wheels/public/simple/\n",
      "Collecting polars\n",
      "  Downloading polars-0.16.14-cp37-abi3-manylinux_2_17_x86_64.manylinux2014_x86_64.whl (16.2 MB)\n",
      "\u001b[2K     \u001b[90m━━━━━━━━━━━━━━━━━━━━━━━━━━━━━━━━━━━━━━━━\u001b[0m \u001b[32m16.2/16.2 MB\u001b[0m \u001b[31m45.9 MB/s\u001b[0m eta \u001b[36m0:00:00\u001b[0m\n",
      "\u001b[?25hRequirement already satisfied: typing_extensions>=4.0.1 in /usr/local/lib/python3.9/dist-packages (from polars) (4.5.0)\n",
      "Installing collected packages: polars\n",
      "Successfully installed polars-0.16.14\n"
     ]
    }
   ],
   "source": [
    "# For colab\n",
    "!pip install polars "
   ]
  },
  {
   "cell_type": "code",
   "execution_count": 2,
   "id": "db2ad128",
   "metadata": {
    "id": "db2ad128"
   },
   "outputs": [],
   "source": [
    "import polars as pl"
   ]
  },
  {
   "cell_type": "code",
   "execution_count": 3,
   "id": "83552397",
   "metadata": {
    "colab": {
     "base_uri": "https://localhost:8080/",
     "height": 248
    },
    "id": "83552397",
    "outputId": "75d580db-c331-4928-bb6e-b0e3a63f5f1e"
   },
   "outputs": [
    {
     "data": {
      "text/html": [
       "<div><style>\n",
       ".dataframe > thead > tr > th,\n",
       ".dataframe > tbody > tr > td {\n",
       "  text-align: right;\n",
       "}\n",
       "</style>\n",
       "<small>shape: (5, 3)</small><table border=\"1\" class=\"dataframe\"><thead><tr><th>Team</th><th>Score</th><th>Comments</th></tr><tr><td>str</td><td>i64</td><td>str</td></tr></thead><tbody><tr><td>&quot;N01&quot;</td><td>78</td><td>&quot;Blah 1&quot;</td></tr><tr><td>&quot;N01&quot;</td><td>73</td><td>&quot;Blah 2&quot;</td></tr><tr><td>&quot;U01&quot;</td><td>54</td><td>&quot;Blah Blah 1&quot;</td></tr><tr><td>&quot;U01&quot;</td><td>62</td><td>&quot;Blah Blah 2&quot;</td></tr><tr><td>&quot;U01&quot;</td><td>68</td><td>&quot;Blah Blah 3&quot;</td></tr></tbody></table></div>"
      ],
      "text/plain": [
       "shape: (5, 3)\n",
       "┌──────┬───────┬─────────────┐\n",
       "│ Team ┆ Score ┆ Comments    │\n",
       "│ ---  ┆ ---   ┆ ---         │\n",
       "│ str  ┆ i64   ┆ str         │\n",
       "╞══════╪═══════╪═════════════╡\n",
       "│ N01  ┆ 78    ┆ Blah 1      │\n",
       "│ N01  ┆ 73    ┆ Blah 2      │\n",
       "│ U01  ┆ 54    ┆ Blah Blah 1 │\n",
       "│ U01  ┆ 62    ┆ Blah Blah 2 │\n",
       "│ U01  ┆ 68    ┆ Blah Blah 3 │\n",
       "└──────┴───────┴─────────────┘"
      ]
     },
     "execution_count": 3,
     "metadata": {},
     "output_type": "execute_result"
    }
   ],
   "source": [
    "comments = pl.read_csv('https://github.com/yardsale8/malone_concat_str_example/raw/main/form_output.csv')\n",
    "comments"
   ]
  },
  {
   "cell_type": "code",
   "execution_count": 4,
   "id": "b9375168",
   "metadata": {
    "colab": {
     "base_uri": "https://localhost:8080/",
     "height": 156
    },
    "id": "b9375168",
    "outputId": "704eef6b-c6aa-4012-f568-8368b0bd0337"
   },
   "outputs": [
    {
     "data": {
      "text/html": [
       "<div><style>\n",
       ".dataframe > thead > tr > th,\n",
       ".dataframe > tbody > tr > td {\n",
       "  text-align: right;\n",
       "}\n",
       "</style>\n",
       "<small>shape: (2, 2)</small><table border=\"1\" class=\"dataframe\"><thead><tr><th>Team</th><th>Email</th></tr><tr><td>str</td><td>str</td></tr></thead><tbody><tr><td>&quot;N01&quot;</td><td>&quot;xyz@stjohns.ed...</td></tr><tr><td>&quot;U01&quot;</td><td>&quot;abc@winona.edu...</td></tr></tbody></table></div>"
      ],
      "text/plain": [
       "shape: (2, 2)\n",
       "┌──────┬─────────────────┐\n",
       "│ Team ┆ Email           │\n",
       "│ ---  ┆ ---             │\n",
       "│ str  ┆ str             │\n",
       "╞══════╪═════════════════╡\n",
       "│ N01  ┆ xyz@stjohns.edu │\n",
       "│ U01  ┆ abc@winona.edu  │\n",
       "└──────┴─────────────────┘"
      ]
     },
     "execution_count": 4,
     "metadata": {},
     "output_type": "execute_result"
    }
   ],
   "source": [
    "emails = pl.read_csv('https://github.com/yardsale8/malone_concat_str_example/raw/main/emails.csv')\n",
    "emails"
   ]
  },
  {
   "cell_type": "code",
   "execution_count": 5,
   "id": "ca4de60c",
   "metadata": {
    "colab": {
     "base_uri": "https://localhost:8080/",
     "height": 156
    },
    "id": "ca4de60c",
    "outputId": "06bf6875-139e-415a-a528-869226f3c2f6"
   },
   "outputs": [
    {
     "data": {
      "text/html": [
       "<div><style>\n",
       ".dataframe > thead > tr > th,\n",
       ".dataframe > tbody > tr > td {\n",
       "  text-align: right;\n",
       "}\n",
       "</style>\n",
       "<small>shape: (2, 4)</small><table border=\"1\" class=\"dataframe\"><thead><tr><th>Team</th><th>Avg Score</th><th>Comments</th><th>Email</th></tr><tr><td>str</td><td>f64</td><td>str</td><td>str</td></tr></thead><tbody><tr><td>&quot;N01&quot;</td><td>75.5</td><td>&quot;Blah 1; Blah 2&quot;</td><td>&quot;xyz@stjohns.edu&quot;</td></tr><tr><td>&quot;U01&quot;</td><td>61.333333</td><td>&quot;Blah Blah 1; Blah Blah 2; Blah Blah 3&quot;</td><td>&quot;abc@winona.edu&quot;</td></tr></tbody></table></div>"
      ],
      "text/plain": [
       "shape: (2, 4)\n",
       "┌──────┬───────────┬───────────────────────────────────────┬─────────────────┐\n",
       "│ Team ┆ Avg Score ┆ Comments                              ┆ Email           │\n",
       "│ ---  ┆ ---       ┆ ---                                   ┆ ---             │\n",
       "│ str  ┆ f64       ┆ str                                   ┆ str             │\n",
       "╞══════╪═══════════╪═══════════════════════════════════════╪═════════════════╡\n",
       "│ N01  ┆ 75.5      ┆ Blah 1; Blah 2                        ┆ xyz@stjohns.edu │\n",
       "│ U01  ┆ 61.333333 ┆ Blah Blah 1; Blah Blah 2; Blah Blah 3 ┆ abc@winona.edu  │\n",
       "└──────┴───────────┴───────────────────────────────────────┴─────────────────┘"
      ]
     },
     "execution_count": 5,
     "metadata": {},
     "output_type": "execute_result"
    }
   ],
   "source": [
    "pl.Config.set_fmt_str_lengths(128)\n",
    "\n",
    "(comments\n",
    " .groupby('Team')\n",
    " .agg([pl.col('Score')\n",
    "         .mean()\n",
    "         .alias('Avg Score'),\n",
    "       pl.col('Comments')\n",
    "         .str.concat('; ')\n",
    "         .alias('Comments'),\n",
    "     ])\n",
    " .join(emails, on='Team')\n",
    ")"
   ]
  }
 ],
 "metadata": {
  "colab": {
   "include_colab_link": true,
   "provenance": []
  },
  "kernelspec": {
   "display_name": "Python 3 (ipykernel)",
   "language": "python",
   "name": "python3"
  },
  "language_info": {
   "codemirror_mode": {
    "name": "ipython",
    "version": 3
   },
   "file_extension": ".py",
   "mimetype": "text/x-python",
   "name": "python",
   "nbconvert_exporter": "python",
   "pygments_lexer": "ipython3",
   "version": "3.9.12"
  }
 },
 "nbformat": 4,
 "nbformat_minor": 5
}
